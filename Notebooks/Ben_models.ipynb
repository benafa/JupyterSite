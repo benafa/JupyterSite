{
 "cells": [
  {
   "cell_type": "code",
   "execution_count": 1,
   "metadata": {
    "collapsed": true
   },
   "outputs": [],
   "source": [
    "import numpy as np\n",
    "import pandas as pd\n",
    "import matplotlib\n",
    "import matplotlib.pyplot as plt\n",
    "import seaborn as sns\n",
    "import sklearn.metrics as metrics\n",
    "import pydot\n",
    "import io\n",
    "\n",
    "from sklearn.model_selection import GridSearchCV\n",
    "from sklearn.pipeline import Pipeline\n",
    "from sklearn.ensemble import RandomForestClassifier\n",
    "from sklearn.tree import DecisionTreeClassifier\n",
    "from sklearn.metrics import roc_curve, auc\n",
    "from sklearn.preprocessing import Imputer\n",
    "from sklearn.model_selection import train_test_split\n",
    "from sklearn.linear_model import LogisticRegressionCV\n",
    "from sklearn.preprocessing import PolynomialFeatures\n",
    "from sklearn.preprocessing import StandardScaler\n",
    "from sklearn.discriminant_analysis import LinearDiscriminantAnalysis\n",
    "from sklearn.discriminant_analysis import QuadraticDiscriminantAnalysis\n",
    "from sklearn.neighbors import KNeighborsClassifier\n",
    "from sklearn.model_selection import cross_val_score\n",
    "from sklearn.tree import DecisionTreeClassifier\n",
    "from sklearn.metrics import accuracy_score\n",
    "from sklearn.tree import export_graphviz\n",
    "from IPython.display import Image\n",
    "from IPython.display import display\n",
    "from sklearn.preprocessing import label_binarize\n",
    "from sklearn import svm\n",
    "from sklearn.multiclass import OneVsRestClassifier\n",
    "from sklearn.ensemble import AdaBoostClassifier\n",
    "\n",
    "%matplotlib inline"
   ]
  },
  {
   "cell_type": "code",
   "execution_count": 2,
   "metadata": {
    "collapsed": true
   },
   "outputs": [],
   "source": [
    "data_new = pd.read_csv('../data/data_all.csv', low_memory=False);\n",
    "\n",
    "# Create 'year' variable\n",
    "data_new['YEAR'] = data_new['EXAMDATE'].apply(lambda x: x[:4])\n",
    "\n",
    "# Subset data to baseline observations for ADNI 1\n",
    "data_new = data_new.loc[(data_new['VISCODE'] == \"bl\") & (data_new['ORIGPROT'] == \"ADNI1\"), :]"
   ]
  },
  {
   "cell_type": "code",
   "execution_count": 3,
   "metadata": {},
   "outputs": [
    {
     "data": {
      "text/plain": [
       "(819, 1465)"
      ]
     },
     "execution_count": 3,
     "metadata": {},
     "output_type": "execute_result"
    }
   ],
   "source": [
    "data_new.shape"
   ]
  },
  {
   "cell_type": "markdown",
   "metadata": {},
   "source": [
    "# Baseline Model"
   ]
  },
  {
   "cell_type": "code",
   "execution_count": 4,
   "metadata": {},
   "outputs": [
    {
     "data": {
      "text/plain": [
       "\"\\nimputer = Imputer(strategy='mean')\\nfor col in X.columns:\\n    imputed = imputer.fit_transform(X[col].values.reshape(-1,1))\\n    X.loc[:,col] = imputed\\n\""
      ]
     },
     "execution_count": 4,
     "metadata": {},
     "output_type": "execute_result"
    }
   ],
   "source": [
    "#Build a baseline model with only known predictors - ex MRI/PET/CSF\n",
    "\n",
    "#Choose predictors hypothesized as very important for with DX_bl\n",
    "\n",
    "cols = [\"AGE\",\"PTEDUCAT\",\"PTAU_UPENNBIOMK9_04_19_17\",\"ABETA_UPENNBIOMK9_04_19_17\", \\\n",
    "        \"TAU_UPENNBIOMK9_04_19_17\",\"APOE4\",\"ADAS11\"]\n",
    "\n",
    "y = data_new['DX_bl']\n",
    "X = data_new[cols]\n",
    "\n",
    "\n",
    "#Case 1: drop missing values\n",
    "\n",
    "# get row indices with at least one missing val\n",
    "#msk = X.apply(lambda x: x.isnull().any(),axis=1) \n",
    "#X = X.dropna()\n",
    "#y = y[~msk]\n",
    "\n",
    "#Case 2: impute missing values by mean\n",
    "X = X.fillna(X.mean())\n",
    "\n",
    "\"\"\"\n",
    "imputer = Imputer(strategy='mean')\n",
    "for col in X.columns:\n",
    "    imputed = imputer.fit_transform(X[col].values.reshape(-1,1))\n",
    "    X.loc[:,col] = imputed\n",
    "\"\"\"\n",
    "\n",
    "#Case 3: impute via model limputation\n",
    "\n"
   ]
  },
  {
   "cell_type": "code",
   "execution_count": 5,
   "metadata": {},
   "outputs": [
    {
     "data": {
      "text/plain": [
       "AGE                           0\n",
       "PTEDUCAT                      0\n",
       "PTAU_UPENNBIOMK9_04_19_17     0\n",
       "ABETA_UPENNBIOMK9_04_19_17    0\n",
       "TAU_UPENNBIOMK9_04_19_17      0\n",
       "APOE4                         0\n",
       "ADAS11                        0\n",
       "dtype: int64"
      ]
     },
     "execution_count": 5,
     "metadata": {},
     "output_type": "execute_result"
    }
   ],
   "source": [
    "#Check for empty values after imputation\n",
    "X.apply(lambda x: x.isnull().sum(), axis=0)"
   ]
  },
  {
   "cell_type": "code",
   "execution_count": 6,
   "metadata": {},
   "outputs": [
    {
     "data": {
      "text/plain": [
       "(array(['AD', 'CN', 'LMCI'], dtype=object), array([192, 229, 398]))"
      ]
     },
     "execution_count": 6,
     "metadata": {},
     "output_type": "execute_result"
    }
   ],
   "source": [
    "np.unique(y,return_counts=True)"
   ]
  },
  {
   "cell_type": "code",
   "execution_count": 7,
   "metadata": {
    "collapsed": true
   },
   "outputs": [],
   "source": [
    "def confusionMatrixPerClass(confusion_matrix):\n",
    "    FP = confusion_matrix.sum(axis=0) - np.diag(confusion_matrix)  \n",
    "    FN = confusion_matrix.sum(axis=1) - np.diag(confusion_matrix)\n",
    "    TP = np.diag(confusion_matrix)\n",
    "    TN = confusion_matrix.sum() - (FP + FN + TP)\n",
    "\n",
    "    TPR = TP/(TP+FN)\n",
    "    TNR = TN/(TN+FP) \n",
    "    FPR = FP/(FP+TN)\n",
    "    FNR = FN/(TP+FN)\n",
    "    \n",
    "    \n",
    "    result_dict = {\"Accuracies\": [\"True Negative\", \"False Positive\", \"False Negative\", \"True Positive\"]}\n",
    "    result_dict[\"AD Score\"] = [TNR[0], FPR[0], FNR[0], TPR[0]]\n",
    "    result_dict[\"CN Score\"] = [TNR[1], FPR[1], FNR[1], TPR[1]]\n",
    "    result_dict[\"LMCI Score\"] = [TNR[2], FPR[2], FNR[2], TPR[2]]\n",
    "\n",
    "    result_df = pd.DataFrame.from_dict(result_dict).set_index(\"Accuracies\")[['AD Score', \"CN Score\", \"LMCI Score\"]]\n",
    "    return result_df\n"
   ]
  },
  {
   "cell_type": "markdown",
   "metadata": {},
   "source": [
    "### Pre-process data "
   ]
  },
  {
   "cell_type": "code",
   "execution_count": 8,
   "metadata": {},
   "outputs": [],
   "source": [
    "#method 1 - Build a regularized logistic regression model\n",
    "\n",
    "#Standardize our variables - we only have continuous variables here in the baseline model\n",
    "norm_X = (X-X.mean())/X.std()\n",
    "\n",
    "#Split into train and test sets\n",
    "\n",
    "X_train, X_test, y_train, y_test = train_test_split(norm_X, y, test_size=0.33)\n",
    "\n",
    "#Determine baseline accuracy of various models\n",
    "baseline_accuracies = {}\n",
    "\n",
    "\n"
   ]
  },
  {
   "cell_type": "code",
   "execution_count": 9,
   "metadata": {
    "collapsed": true
   },
   "outputs": [],
   "source": [
    "models = []\n",
    "lambdas = [10**x for x in range(-5,6)]"
   ]
  },
  {
   "cell_type": "markdown",
   "metadata": {},
   "source": [
    "### Multinomial Logistic"
   ]
  },
  {
   "cell_type": "code",
   "execution_count": 10,
   "metadata": {},
   "outputs": [
    {
     "name": "stdout",
     "output_type": "stream",
     "text": [
      "Cross validated parameter for multinomial logistic regression: [ 1.  1.  1.]\n",
      "Multinomial logistic regression training accuracy:  0.702554744526\n",
      "Multinomial logistic regression testing accuracy:  0.660516605166\n"
     ]
    },
    {
     "data": {
      "text/html": [
       "<div>\n",
       "<style>\n",
       "    .dataframe thead tr:only-child th {\n",
       "        text-align: right;\n",
       "    }\n",
       "\n",
       "    .dataframe thead th {\n",
       "        text-align: left;\n",
       "    }\n",
       "\n",
       "    .dataframe tbody tr th {\n",
       "        vertical-align: top;\n",
       "    }\n",
       "</style>\n",
       "<table border=\"1\" class=\"dataframe\">\n",
       "  <thead>\n",
       "    <tr style=\"text-align: right;\">\n",
       "      <th></th>\n",
       "      <th>AD Score</th>\n",
       "      <th>CN Score</th>\n",
       "      <th>LMCI Score</th>\n",
       "    </tr>\n",
       "    <tr>\n",
       "      <th>Accuracies</th>\n",
       "      <th></th>\n",
       "      <th></th>\n",
       "      <th></th>\n",
       "    </tr>\n",
       "  </thead>\n",
       "  <tbody>\n",
       "    <tr>\n",
       "      <th>True Negative</th>\n",
       "      <td>0.909091</td>\n",
       "      <td>0.877660</td>\n",
       "      <td>0.634328</td>\n",
       "    </tr>\n",
       "    <tr>\n",
       "      <th>False Positive</th>\n",
       "      <td>0.090909</td>\n",
       "      <td>0.122340</td>\n",
       "      <td>0.365672</td>\n",
       "    </tr>\n",
       "    <tr>\n",
       "      <th>False Negative</th>\n",
       "      <td>0.411765</td>\n",
       "      <td>0.349398</td>\n",
       "      <td>0.306569</td>\n",
       "    </tr>\n",
       "    <tr>\n",
       "      <th>True Positive</th>\n",
       "      <td>0.588235</td>\n",
       "      <td>0.650602</td>\n",
       "      <td>0.693431</td>\n",
       "    </tr>\n",
       "  </tbody>\n",
       "</table>\n",
       "</div>"
      ],
      "text/plain": [
       "                AD Score  CN Score  LMCI Score\n",
       "Accuracies                                    \n",
       "True Negative   0.909091  0.877660    0.634328\n",
       "False Positive  0.090909  0.122340    0.365672\n",
       "False Negative  0.411765  0.349398    0.306569\n",
       "True Positive   0.588235  0.650602    0.693431"
      ]
     },
     "execution_count": 10,
     "metadata": {},
     "output_type": "execute_result"
    }
   ],
   "source": [
    "multi_logistic = LogisticRegressionCV(fit_intercept=True, Cs=lambdas, penalty='l2', multi_class = 'multinomial')\n",
    "multi_result = multi_logistic.fit(X_train, y_train)\n",
    "print(\"Cross validated parameter for multinomial logistic regression: \" + str(multi_result.C_))\n",
    "print(\"Multinomial logistic regression training accuracy: \", multi_logistic.score(X_train, y_train))\n",
    "print(\"Multinomial logistic regression testing accuracy: \", multi_logistic.score(X_test, y_test))\n",
    "\n",
    "y_train_predict = multi_result.predict(X_train)\n",
    "y_test_predict = multi_result.predict(X_test)\n",
    "baseline_accuracies[str(multi_result.__class__).split('.')[-1].strip(\"'>\")]=accuracy_score(y_test,y_test_predict)\n",
    "models.append(multi_result)\n",
    "confusionMatrixPerClass(metrics.confusion_matrix(y_test, y_test_predict))\n"
   ]
  },
  {
   "cell_type": "markdown",
   "metadata": {},
   "source": [
    "### LDA"
   ]
  },
  {
   "cell_type": "code",
   "execution_count": 11,
   "metadata": {},
   "outputs": [
    {
     "name": "stdout",
     "output_type": "stream",
     "text": [
      "LDA Training Score:  0.691605839416\n",
      "LDA Testing Score:  0.656826568266\n"
     ]
    },
    {
     "data": {
      "text/html": [
       "<div>\n",
       "<style>\n",
       "    .dataframe thead tr:only-child th {\n",
       "        text-align: right;\n",
       "    }\n",
       "\n",
       "    .dataframe thead th {\n",
       "        text-align: left;\n",
       "    }\n",
       "\n",
       "    .dataframe tbody tr th {\n",
       "        vertical-align: top;\n",
       "    }\n",
       "</style>\n",
       "<table border=\"1\" class=\"dataframe\">\n",
       "  <thead>\n",
       "    <tr style=\"text-align: right;\">\n",
       "      <th></th>\n",
       "      <th>AD Score</th>\n",
       "      <th>CN Score</th>\n",
       "      <th>LMCI Score</th>\n",
       "    </tr>\n",
       "    <tr>\n",
       "      <th>Accuracies</th>\n",
       "      <th></th>\n",
       "      <th></th>\n",
       "      <th></th>\n",
       "    </tr>\n",
       "  </thead>\n",
       "  <tbody>\n",
       "    <tr>\n",
       "      <th>True Negative</th>\n",
       "      <td>0.890909</td>\n",
       "      <td>0.882979</td>\n",
       "      <td>0.649254</td>\n",
       "    </tr>\n",
       "    <tr>\n",
       "      <th>False Positive</th>\n",
       "      <td>0.109091</td>\n",
       "      <td>0.117021</td>\n",
       "      <td>0.350746</td>\n",
       "    </tr>\n",
       "    <tr>\n",
       "      <th>False Negative</th>\n",
       "      <td>0.372549</td>\n",
       "      <td>0.349398</td>\n",
       "      <td>0.328467</td>\n",
       "    </tr>\n",
       "    <tr>\n",
       "      <th>True Positive</th>\n",
       "      <td>0.627451</td>\n",
       "      <td>0.650602</td>\n",
       "      <td>0.671533</td>\n",
       "    </tr>\n",
       "  </tbody>\n",
       "</table>\n",
       "</div>"
      ],
      "text/plain": [
       "                AD Score  CN Score  LMCI Score\n",
       "Accuracies                                    \n",
       "True Negative   0.890909  0.882979    0.649254\n",
       "False Positive  0.109091  0.117021    0.350746\n",
       "False Negative  0.372549  0.349398    0.328467\n",
       "True Positive   0.627451  0.650602    0.671533"
      ]
     },
     "execution_count": 11,
     "metadata": {},
     "output_type": "execute_result"
    }
   ],
   "source": [
    "lda = LinearDiscriminantAnalysis()\n",
    "lda.fit(X_train, y_train)\n",
    "\n",
    "print(\"LDA Training Score: \", lda.score(X_train, y_train))\n",
    "print(\"LDA Testing Score: \",  lda.score(X_test,  y_test))\n",
    "\n",
    "y_train_predict = lda.predict(X_train)\n",
    "y_test_predict = lda.predict(X_test)\n",
    "baseline_accuracies[str(lda.__class__).split('.')[-1].strip(\"'>\")]=accuracy_score(y_test,y_test_predict)\n",
    "models.append(lda)\n",
    "confusionMatrixPerClass(metrics.confusion_matrix(y_test, y_test_predict))"
   ]
  },
  {
   "cell_type": "markdown",
   "metadata": {},
   "source": [
    "### QDA"
   ]
  },
  {
   "cell_type": "code",
   "execution_count": 12,
   "metadata": {},
   "outputs": [
    {
     "name": "stdout",
     "output_type": "stream",
     "text": [
      "QDA Training Score:  0.662408759124\n",
      "QDA Testing Score:  0.638376383764\n"
     ]
    },
    {
     "data": {
      "text/html": [
       "<div>\n",
       "<style>\n",
       "    .dataframe thead tr:only-child th {\n",
       "        text-align: right;\n",
       "    }\n",
       "\n",
       "    .dataframe thead th {\n",
       "        text-align: left;\n",
       "    }\n",
       "\n",
       "    .dataframe tbody tr th {\n",
       "        vertical-align: top;\n",
       "    }\n",
       "</style>\n",
       "<table border=\"1\" class=\"dataframe\">\n",
       "  <thead>\n",
       "    <tr style=\"text-align: right;\">\n",
       "      <th></th>\n",
       "      <th>AD Score</th>\n",
       "      <th>CN Score</th>\n",
       "      <th>LMCI Score</th>\n",
       "    </tr>\n",
       "    <tr>\n",
       "      <th>Accuracies</th>\n",
       "      <th></th>\n",
       "      <th></th>\n",
       "      <th></th>\n",
       "    </tr>\n",
       "  </thead>\n",
       "  <tbody>\n",
       "    <tr>\n",
       "      <th>True Negative</th>\n",
       "      <td>0.886364</td>\n",
       "      <td>0.819149</td>\n",
       "      <td>0.708955</td>\n",
       "    </tr>\n",
       "    <tr>\n",
       "      <th>False Positive</th>\n",
       "      <td>0.113636</td>\n",
       "      <td>0.180851</td>\n",
       "      <td>0.291045</td>\n",
       "    </tr>\n",
       "    <tr>\n",
       "      <th>False Negative</th>\n",
       "      <td>0.470588</td>\n",
       "      <td>0.204819</td>\n",
       "      <td>0.416058</td>\n",
       "    </tr>\n",
       "    <tr>\n",
       "      <th>True Positive</th>\n",
       "      <td>0.529412</td>\n",
       "      <td>0.795181</td>\n",
       "      <td>0.583942</td>\n",
       "    </tr>\n",
       "  </tbody>\n",
       "</table>\n",
       "</div>"
      ],
      "text/plain": [
       "                AD Score  CN Score  LMCI Score\n",
       "Accuracies                                    \n",
       "True Negative   0.886364  0.819149    0.708955\n",
       "False Positive  0.113636  0.180851    0.291045\n",
       "False Negative  0.470588  0.204819    0.416058\n",
       "True Positive   0.529412  0.795181    0.583942"
      ]
     },
     "execution_count": 12,
     "metadata": {},
     "output_type": "execute_result"
    }
   ],
   "source": [
    "qda = QuadraticDiscriminantAnalysis()\n",
    "qda.fit(X_train, y_train)\n",
    "\n",
    "print(\"QDA Training Score: \", qda.score(X_train, y_train))\n",
    "print(\"QDA Testing Score: \",  qda.score(X_test,  y_test))\n",
    "\n",
    "y_train_predict = qda.predict(X_train)\n",
    "y_test_predict = qda.predict(X_test)\n",
    "\n",
    "baseline_accuracies[str(qda.__class__).split('.')[-1].strip(\"'>\")]=accuracy_score(y_test,y_test_predict)\n",
    "models.append(qda)\n",
    "confusionMatrixPerClass(metrics.confusion_matrix(y_test, y_test_predict))"
   ]
  },
  {
   "cell_type": "markdown",
   "metadata": {},
   "source": [
    "### KNN"
   ]
  },
  {
   "cell_type": "code",
   "execution_count": 13,
   "metadata": {},
   "outputs": [
    {
     "name": "stdout",
     "output_type": "stream",
     "text": [
      "Average test accuracy for 1 nearest neighbors: 0.5476094276094277\n",
      "Average test accuracy for 2 nearest neighbors: 0.5567003367003368\n",
      "Average test accuracy for 3 nearest neighbors: 0.5659259259259259\n",
      "Average test accuracy for 4 nearest neighbors: 0.5676767676767677\n",
      "Average test accuracy for 5 nearest neighbors: 0.5767003367003367\n",
      "Average test accuracy for 6 nearest neighbors: 0.5877104377104377\n",
      "Average test accuracy for 7 nearest neighbors: 0.5768013468013468\n",
      "Average test accuracy for 8 nearest neighbors: 0.5968686868686868\n",
      "Average test accuracy for 9 nearest neighbors: 0.5932659932659933\n",
      "Average test accuracy for 10 nearest neighbors: 0.6096969696969696\n",
      "Average test accuracy for 11 nearest neighbors: 0.6078787878787879\n",
      "Average test accuracy for 12 nearest neighbors: 0.6133670033670033\n",
      "Average test accuracy for 13 nearest neighbors: 0.6023232323232324\n",
      "Average test accuracy for 14 nearest neighbors: 0.6041750841750841\n",
      "Average test accuracy for 15 nearest neighbors: 0.6041414141414141\n",
      "Average test accuracy for 16 nearest neighbors: 0.605925925925926\n",
      "Average test accuracy for 17 nearest neighbors: 0.6097306397306397\n",
      "Average test accuracy for 18 nearest neighbors: 0.6005723905723906\n",
      "Average test accuracy for 19 nearest neighbors: 0.6097306397306397\n",
      "Average test accuracy for 20 nearest neighbors: 0.6170370370370369\n",
      "Average test accuracy for 21 nearest neighbors: 0.6296632996632997\n",
      "Average test accuracy for 22 nearest neighbors: 0.6278787878787878\n",
      "Average test accuracy for 23 nearest neighbors: 0.6315488215488215\n",
      "Average test accuracy for 24 nearest neighbors: 0.6334006734006733\n",
      "Average test accuracy for 25 nearest neighbors: 0.6297979797979798\n",
      "Average test accuracy for 26 nearest neighbors: 0.6297979797979798\n",
      "Average test accuracy for 27 nearest neighbors: 0.6279461279461279\n",
      "Average test accuracy for 28 nearest neighbors: 0.6316498316498316\n",
      "Average test accuracy for 29 nearest neighbors: 0.6280134680134679\n",
      "Average test accuracy for 30 nearest neighbors: 0.6260606060606059\n",
      "Average test accuracy for 31 nearest neighbors: 0.6223905723905723\n",
      "Average test accuracy for 32 nearest neighbors: 0.6297643097643097\n",
      "Average test accuracy for 33 nearest neighbors: 0.6315488215488216\n",
      "Average test accuracy for 34 nearest neighbors: 0.6334343434343435\n",
      "Average test accuracy for 35 nearest neighbors: 0.6387878787878788\n",
      "Average test accuracy for 36 nearest neighbors: 0.6444107744107743\n",
      "Average test accuracy for 37 nearest neighbors: 0.6332659932659931\n",
      "Average test accuracy for 38 nearest neighbors: 0.6314814814814814\n",
      "Average test accuracy for 39 nearest neighbors: 0.6423905723905723\n",
      "Average test accuracy for 40 nearest neighbors: 0.6333333333333334\n",
      "Average test accuracy for 41 nearest neighbors: 0.6369023569023569\n",
      "Average test accuracy for 42 nearest neighbors: 0.6296296296296297\n",
      "Average test accuracy for 43 nearest neighbors: 0.6387542087542087\n",
      "Average test accuracy for 44 nearest neighbors: 0.6278114478114479\n",
      "Average test accuracy for 45 nearest neighbors: 0.6278114478114478\n",
      "Average test accuracy for 46 nearest neighbors: 0.6370370370370371\n",
      "Average test accuracy for 47 nearest neighbors: 0.6332996632996633\n",
      "Average test accuracy for 48 nearest neighbors: 0.6333670033670034\n",
      "Average test accuracy for 49 nearest neighbors: 0.637003367003367\n",
      "Cross-validated nearest neighbors to use:  36\n",
      "k-NN Training Score:  0.664233576642\n",
      "k-NN Testing Score:  0.649446494465\n"
     ]
    },
    {
     "data": {
      "text/html": [
       "<div>\n",
       "<style>\n",
       "    .dataframe thead tr:only-child th {\n",
       "        text-align: right;\n",
       "    }\n",
       "\n",
       "    .dataframe thead th {\n",
       "        text-align: left;\n",
       "    }\n",
       "\n",
       "    .dataframe tbody tr th {\n",
       "        vertical-align: top;\n",
       "    }\n",
       "</style>\n",
       "<table border=\"1\" class=\"dataframe\">\n",
       "  <thead>\n",
       "    <tr style=\"text-align: right;\">\n",
       "      <th></th>\n",
       "      <th>AD Score</th>\n",
       "      <th>CN Score</th>\n",
       "      <th>LMCI Score</th>\n",
       "    </tr>\n",
       "    <tr>\n",
       "      <th>Accuracies</th>\n",
       "      <th></th>\n",
       "      <th></th>\n",
       "      <th></th>\n",
       "    </tr>\n",
       "  </thead>\n",
       "  <tbody>\n",
       "    <tr>\n",
       "      <th>True Negative</th>\n",
       "      <td>0.954545</td>\n",
       "      <td>0.835106</td>\n",
       "      <td>0.597015</td>\n",
       "    </tr>\n",
       "    <tr>\n",
       "      <th>False Positive</th>\n",
       "      <td>0.045455</td>\n",
       "      <td>0.164894</td>\n",
       "      <td>0.402985</td>\n",
       "    </tr>\n",
       "    <tr>\n",
       "      <th>False Negative</th>\n",
       "      <td>0.568627</td>\n",
       "      <td>0.313253</td>\n",
       "      <td>0.291971</td>\n",
       "    </tr>\n",
       "    <tr>\n",
       "      <th>True Positive</th>\n",
       "      <td>0.431373</td>\n",
       "      <td>0.686747</td>\n",
       "      <td>0.708029</td>\n",
       "    </tr>\n",
       "  </tbody>\n",
       "</table>\n",
       "</div>"
      ],
      "text/plain": [
       "                AD Score  CN Score  LMCI Score\n",
       "Accuracies                                    \n",
       "True Negative   0.954545  0.835106    0.597015\n",
       "False Positive  0.045455  0.164894    0.402985\n",
       "False Negative  0.568627  0.313253    0.291971\n",
       "True Positive   0.431373  0.686747    0.708029"
      ]
     },
     "execution_count": 13,
     "metadata": {},
     "output_type": "execute_result"
    }
   ],
   "source": [
    "from sklearn.model_selection import KFold\n",
    "\n",
    "cross_val_n = 1\n",
    "training_accuracy = 0\n",
    "\n",
    "X_train_values = X_train.values\n",
    "for n in range(1, 50):\n",
    "    neigh = KNeighborsClassifier(n_neighbors=n)\n",
    "    score = 0\n",
    "    num_folds = 10\n",
    "    \n",
    "    kf = KFold(n_splits = num_folds)\n",
    "\n",
    "    for train_index, test_index in kf.split(X_train_values):\n",
    "        X_train_cv, X_val_cv = X_train_values[train_index], X_train_values[test_index]\n",
    "    \n",
    "        neigh.fit(X_train_cv, y_train.values[train_index])\n",
    "        score += neigh.score(X_val_cv, y_train.values[test_index])\n",
    "        \n",
    "    score /= num_folds\n",
    "    print(\"Average test accuracy for {} nearest neighbors: {}\".format(n, score))\n",
    "    \n",
    "    if training_accuracy < score:\n",
    "        training_accuracy = score\n",
    "        cross_val_n = n\n",
    "\n",
    "knn_optimal = KNeighborsClassifier(n_neighbors=cross_val_n)\n",
    "knn_optimal.fit(X_train, y_train)\n",
    "\n",
    "print(\"Cross-validated nearest neighbors to use: \", cross_val_n)\n",
    "print(\"k-NN Training Score: \", knn_optimal.score(X_train, y_train))\n",
    "print(\"k-NN Testing Score: \",  knn_optimal.score(X_test,  y_test))\n",
    "\n",
    "y_train_predict = knn_optimal.predict(X_train)\n",
    "y_test_predict = knn_optimal.predict(X_test)\n",
    "\n",
    "baseline_accuracies[str(knn_optimal.__class__).split('.')[-1].strip(\"'>\")]=accuracy_score(y_test,y_test_predict)\n",
    "models.append(knn_optimal)\n",
    "confusionMatrixPerClass(metrics.confusion_matrix(y_test, y_test_predict))"
   ]
  },
  {
   "cell_type": "markdown",
   "metadata": {},
   "source": [
    "### Decison Tree"
   ]
  },
  {
   "cell_type": "code",
   "execution_count": 14,
   "metadata": {},
   "outputs": [
    {
     "name": "stdout",
     "output_type": "stream",
     "text": [
      "Average cross-validation test accuracy for depth of 2: 0.6770308590492077\n",
      "Average cross-validation test accuracy for depth of 3: 0.6661551292743954\n",
      "Average cross-validation test accuracy for depth of 4: 0.6587656380316931\n",
      "Average cross-validation test accuracy for depth of 5: 0.6497080900750626\n",
      "Average cross-validation test accuracy for depth of 6: 0.6223185988323603\n",
      "Average cross-validation test accuracy for depth of 7: 0.6113928273561301\n",
      "Average cross-validation test accuracy for depth of 8: 0.5913261050875729\n",
      "Average cross-validation test accuracy for depth of 9: 0.6004837364470392\n",
      "Average cross-validation test accuracy for depth of 10: 0.5931776480400334\n",
      "Average cross-validation test accuracy for depth of 11: 0.6041701417848208\n",
      "Average cross-validation test accuracy for depth of 12: 0.5895913261050876\n",
      "Average cross-validation test accuracy for depth of 13: 0.5676563803169307\n",
      "Average cross-validation test accuracy for depth of 14: 0.571326105087573\n",
      "Cross-validated decision tree depth to use:  2\n",
      "This decision tree has Training Score:  0.662408759124\n",
      "This decision tree has Testing Score:  0.623616236162\n"
     ]
    },
    {
     "data": {
      "text/html": [
       "<div>\n",
       "<style>\n",
       "    .dataframe thead tr:only-child th {\n",
       "        text-align: right;\n",
       "    }\n",
       "\n",
       "    .dataframe thead th {\n",
       "        text-align: left;\n",
       "    }\n",
       "\n",
       "    .dataframe tbody tr th {\n",
       "        vertical-align: top;\n",
       "    }\n",
       "</style>\n",
       "<table border=\"1\" class=\"dataframe\">\n",
       "  <thead>\n",
       "    <tr style=\"text-align: right;\">\n",
       "      <th></th>\n",
       "      <th>AD Score</th>\n",
       "      <th>CN Score</th>\n",
       "      <th>LMCI Score</th>\n",
       "    </tr>\n",
       "    <tr>\n",
       "      <th>Accuracies</th>\n",
       "      <th></th>\n",
       "      <th></th>\n",
       "      <th></th>\n",
       "    </tr>\n",
       "  </thead>\n",
       "  <tbody>\n",
       "    <tr>\n",
       "      <th>True Negative</th>\n",
       "      <td>0.890909</td>\n",
       "      <td>0.968085</td>\n",
       "      <td>0.462687</td>\n",
       "    </tr>\n",
       "    <tr>\n",
       "      <th>False Positive</th>\n",
       "      <td>0.109091</td>\n",
       "      <td>0.031915</td>\n",
       "      <td>0.537313</td>\n",
       "    </tr>\n",
       "    <tr>\n",
       "      <th>False Negative</th>\n",
       "      <td>0.352941</td>\n",
       "      <td>0.650602</td>\n",
       "      <td>0.218978</td>\n",
       "    </tr>\n",
       "    <tr>\n",
       "      <th>True Positive</th>\n",
       "      <td>0.647059</td>\n",
       "      <td>0.349398</td>\n",
       "      <td>0.781022</td>\n",
       "    </tr>\n",
       "  </tbody>\n",
       "</table>\n",
       "</div>"
      ],
      "text/plain": [
       "                AD Score  CN Score  LMCI Score\n",
       "Accuracies                                    \n",
       "True Negative   0.890909  0.968085    0.462687\n",
       "False Positive  0.109091  0.031915    0.537313\n",
       "False Negative  0.352941  0.650602    0.218978\n",
       "True Positive   0.647059  0.349398    0.781022"
      ]
     },
     "execution_count": 14,
     "metadata": {},
     "output_type": "execute_result"
    }
   ],
   "source": [
    "from sklearn.model_selection import KFold\n",
    "\n",
    "cross_val_n = 1\n",
    "training_accuracy = 0\n",
    "X_train_values = X_train.values\n",
    "for n in range(2, 15):\n",
    "    score = 0    \n",
    "    kf = KFold(n_splits = 5)\n",
    "    dt = DecisionTreeClassifier(max_depth = n)\n",
    "\n",
    "    for train_index, test_index in kf.split(X_train_values):\n",
    "        X_train_cv, X_val_cv = X_train_values[train_index], X_train_values[test_index]        \n",
    "        dt.fit(X_train_cv, y_train.values[train_index])\n",
    "        score += dt.score(X_val_cv, y_train.values[test_index])\n",
    "        \n",
    "    score /= 5\n",
    "    print(\"Average cross-validation test accuracy for depth of {}: {}\".format(n, score))\n",
    "    \n",
    "    if training_accuracy < score:\n",
    "        training_accuracy = score\n",
    "        cross_val_n = n\n",
    "\n",
    "dt_optimal = DecisionTreeClassifier(max_depth = cross_val_n)\n",
    "dt_optimal.fit(X_train, y_train)\n",
    "\n",
    "print(\"Cross-validated decision tree depth to use: \", cross_val_n)\n",
    "print(\"This decision tree has Training Score: \", dt_optimal.score(X_train, y_train))\n",
    "print(\"This decision tree has Testing Score: \",  dt_optimal.score(X_test,  y_test))\n",
    "\n",
    "y_train_predict = dt_optimal.predict(X_train)\n",
    "y_test_predict = dt_optimal.predict(X_test)\n",
    "\n",
    "baseline_accuracies[str(dt_optimal.__class__).split('.')[-1].strip(\"'>\")]=accuracy_score(y_test,y_test_predict)\n",
    "models.append(dt_optimal)\n",
    "confusionMatrixPerClass(metrics.confusion_matrix(y_test, y_test_predict))"
   ]
  },
  {
   "cell_type": "markdown",
   "metadata": {},
   "source": [
    "### Random Forest"
   ]
  },
  {
   "cell_type": "code",
   "execution_count": 15,
   "metadata": {},
   "outputs": [
    {
     "name": "stdout",
     "output_type": "stream",
     "text": [
      "Average cross-validation test accuracy for trees of 2: 0.5309924937447873\n",
      "Average cross-validation test accuracy for trees of 4: 0.5821351125938283\n",
      "Average cross-validation test accuracy for trees of 8: 0.625838198498749\n",
      "Average cross-validation test accuracy for trees of 16: 0.6150625521267723\n",
      "Average cross-validation test accuracy for trees of 32: 0.6332610508757297\n",
      "Average cross-validation test accuracy for trees of 64: 0.6422852376980818\n",
      "Average cross-validation test accuracy for trees of 128: 0.6441534612176814\n",
      "Average cross-validation test accuracy for trees of 256: 0.6478065054211843\n",
      "Cross-validated decision tree depth to use:  256\n",
      "This decision tree has Training Score:  1.0\n",
      "This decision tree has Testing Score:  0.619926199262\n"
     ]
    },
    {
     "data": {
      "text/html": [
       "<div>\n",
       "<style>\n",
       "    .dataframe thead tr:only-child th {\n",
       "        text-align: right;\n",
       "    }\n",
       "\n",
       "    .dataframe thead th {\n",
       "        text-align: left;\n",
       "    }\n",
       "\n",
       "    .dataframe tbody tr th {\n",
       "        vertical-align: top;\n",
       "    }\n",
       "</style>\n",
       "<table border=\"1\" class=\"dataframe\">\n",
       "  <thead>\n",
       "    <tr style=\"text-align: right;\">\n",
       "      <th></th>\n",
       "      <th>AD Score</th>\n",
       "      <th>CN Score</th>\n",
       "      <th>LMCI Score</th>\n",
       "    </tr>\n",
       "    <tr>\n",
       "      <th>Accuracies</th>\n",
       "      <th></th>\n",
       "      <th></th>\n",
       "      <th></th>\n",
       "    </tr>\n",
       "  </thead>\n",
       "  <tbody>\n",
       "    <tr>\n",
       "      <th>True Negative</th>\n",
       "      <td>0.868182</td>\n",
       "      <td>0.882979</td>\n",
       "      <td>0.611940</td>\n",
       "    </tr>\n",
       "    <tr>\n",
       "      <th>False Positive</th>\n",
       "      <td>0.131818</td>\n",
       "      <td>0.117021</td>\n",
       "      <td>0.388060</td>\n",
       "    </tr>\n",
       "    <tr>\n",
       "      <th>False Negative</th>\n",
       "      <td>0.372549</td>\n",
       "      <td>0.421687</td>\n",
       "      <td>0.357664</td>\n",
       "    </tr>\n",
       "    <tr>\n",
       "      <th>True Positive</th>\n",
       "      <td>0.627451</td>\n",
       "      <td>0.578313</td>\n",
       "      <td>0.642336</td>\n",
       "    </tr>\n",
       "  </tbody>\n",
       "</table>\n",
       "</div>"
      ],
      "text/plain": [
       "                AD Score  CN Score  LMCI Score\n",
       "Accuracies                                    \n",
       "True Negative   0.868182  0.882979    0.611940\n",
       "False Positive  0.131818  0.117021    0.388060\n",
       "False Negative  0.372549  0.421687    0.357664\n",
       "True Positive   0.627451  0.578313    0.642336"
      ]
     },
     "execution_count": 15,
     "metadata": {},
     "output_type": "execute_result"
    }
   ],
   "source": [
    "from sklearn.model_selection import KFold\n",
    "\n",
    "cross_val_n = 1\n",
    "training_accuracy = 0\n",
    "X_train_values = X_train.values\n",
    "\n",
    "num_trees = [2**x for x in range(1,9)]\n",
    "\n",
    "for n in num_trees:\n",
    "    # default gives the required number of predictors (square root of total)\n",
    "    score = 0    \n",
    "    kf = KFold(n_splits = 5)\n",
    "    rf = RandomForestClassifier(n_estimators=n, max_features='sqrt')\n",
    "\n",
    "    for train_index, test_index in kf.split(X_train_values):\n",
    "        X_train_cv, X_val_cv = X_train_values[train_index], X_train_values[test_index]        \n",
    "        rf.fit(X_train_cv, y_train.values[train_index])\n",
    "        score += rf.score(X_val_cv, y_train.values[test_index])\n",
    "        \n",
    "    score /= 5\n",
    "    print(\"Average cross-validation test accuracy for trees of {}: {}\".format(n, score))\n",
    "    \n",
    "    if training_accuracy < score:\n",
    "        training_accuracy = score\n",
    "        cross_val_n = n\n",
    "\n",
    "rf_optimal = RandomForestClassifier(n_estimators = cross_val_n, max_features='sqrt')\n",
    "rf_optimal.fit(X_train, y_train)\n",
    "\n",
    "print(\"Cross-validated decision tree depth to use: \", cross_val_n)\n",
    "print(\"This decision tree has Training Score: \", rf_optimal.score(X_train, y_train))\n",
    "print(\"This decision tree has Testing Score: \",  rf_optimal.score(X_test,  y_test))\n",
    "\n",
    "y_train_predict = rf_optimal.predict(X_train)\n",
    "y_test_predict = rf_optimal.predict(X_test)\n",
    "\n",
    "baseline_accuracies[str(rf_optimal.__class__).split('.')[-1].strip(\"'>\")]=accuracy_score(y_test,y_test_predict)\n",
    "models.append(rf_optimal)\n",
    "confusionMatrixPerClass(metrics.confusion_matrix(y_test, y_test_predict))"
   ]
  },
  {
   "cell_type": "markdown",
   "metadata": {},
   "source": [
    "### ADA"
   ]
  },
  {
   "cell_type": "code",
   "execution_count": 16,
   "metadata": {},
   "outputs": [
    {
     "name": "stdout",
     "output_type": "stream",
     "text": [
      "Average cross-validation test accuracy for trees of 2: 0.6570141784820684\n",
      "Average cross-validation test accuracy for trees of 4: 0.6496914095079233\n",
      "Average cross-validation test accuracy for trees of 8: 0.6096413678065055\n",
      "Average cross-validation test accuracy for trees of 16: 0.5729941618015013\n",
      "Average cross-validation test accuracy for trees of 32: 0.6095579649708089\n",
      "Average cross-validation test accuracy for trees of 64: 0.6040033361134278\n",
      "Average cross-validation test accuracy for trees of 128: 0.5602502085070893\n",
      "Average cross-validation test accuracy for trees of 256: 0.600417014178482\n",
      "Cross-validated decision tree depth to use:  2\n",
      "This decision tree has Training Score:  0.644160583942\n",
      "This decision tree has Testing Score:  0.59778597786\n"
     ]
    },
    {
     "data": {
      "text/html": [
       "<div>\n",
       "<style>\n",
       "    .dataframe thead tr:only-child th {\n",
       "        text-align: right;\n",
       "    }\n",
       "\n",
       "    .dataframe thead th {\n",
       "        text-align: left;\n",
       "    }\n",
       "\n",
       "    .dataframe tbody tr th {\n",
       "        vertical-align: top;\n",
       "    }\n",
       "</style>\n",
       "<table border=\"1\" class=\"dataframe\">\n",
       "  <thead>\n",
       "    <tr style=\"text-align: right;\">\n",
       "      <th></th>\n",
       "      <th>AD Score</th>\n",
       "      <th>CN Score</th>\n",
       "      <th>LMCI Score</th>\n",
       "    </tr>\n",
       "    <tr>\n",
       "      <th>Accuracies</th>\n",
       "      <th></th>\n",
       "      <th></th>\n",
       "      <th></th>\n",
       "    </tr>\n",
       "  </thead>\n",
       "  <tbody>\n",
       "    <tr>\n",
       "      <th>True Negative</th>\n",
       "      <td>0.831818</td>\n",
       "      <td>0.968085</td>\n",
       "      <td>0.507463</td>\n",
       "    </tr>\n",
       "    <tr>\n",
       "      <th>False Positive</th>\n",
       "      <td>0.168182</td>\n",
       "      <td>0.031915</td>\n",
       "      <td>0.492537</td>\n",
       "    </tr>\n",
       "    <tr>\n",
       "      <th>False Negative</th>\n",
       "      <td>0.235294</td>\n",
       "      <td>0.650602</td>\n",
       "      <td>0.313869</td>\n",
       "    </tr>\n",
       "    <tr>\n",
       "      <th>True Positive</th>\n",
       "      <td>0.764706</td>\n",
       "      <td>0.349398</td>\n",
       "      <td>0.686131</td>\n",
       "    </tr>\n",
       "  </tbody>\n",
       "</table>\n",
       "</div>"
      ],
      "text/plain": [
       "                AD Score  CN Score  LMCI Score\n",
       "Accuracies                                    \n",
       "True Negative   0.831818  0.968085    0.507463\n",
       "False Positive  0.168182  0.031915    0.492537\n",
       "False Negative  0.235294  0.650602    0.313869\n",
       "True Positive   0.764706  0.349398    0.686131"
      ]
     },
     "execution_count": 16,
     "metadata": {},
     "output_type": "execute_result"
    }
   ],
   "source": [
    "from sklearn.model_selection import KFold\n",
    "\n",
    "cross_val_n = 1\n",
    "training_accuracy = 0\n",
    "X_train_values = X_train.values\n",
    "\n",
    "num_trees = [2**x for x in range(1,9)]\n",
    "\n",
    "for n in num_trees:\n",
    "    # default gives the required number of predictors (square root of total)\n",
    "    score = 0    \n",
    "    kf = KFold(n_splits = 5)\n",
    "    ada = AdaBoostClassifier(base_estimator=DecisionTreeClassifier(max_depth=2,criterion = 'gini'),n_estimators=n)\n",
    "\n",
    "    for train_index, test_index in kf.split(X_train_values):\n",
    "        X_train_cv, X_val_cv = X_train_values[train_index], X_train_values[test_index]        \n",
    "        ada.fit(X_train_cv, y_train.values[train_index])\n",
    "        score += ada.score(X_val_cv, y_train.values[test_index])\n",
    "        \n",
    "    score /= 5\n",
    "    print(\"Average cross-validation test accuracy for trees of {}: {}\".format(n, score))\n",
    "    \n",
    "    if training_accuracy < score:\n",
    "        training_accuracy = score\n",
    "        cross_val_n = n\n",
    "\n",
    "ada_optimal = AdaBoostClassifier(base_estimator=DecisionTreeClassifier(max_depth=2,criterion = 'gini'),n_estimators=cross_val_n)\n",
    "ada_optimal.fit(X_train, y_train)\n",
    "\n",
    "print(\"Cross-validated decision tree depth to use: \", cross_val_n)\n",
    "print(\"This decision tree has Training Score: \", ada_optimal.score(X_train, y_train))\n",
    "print(\"This decision tree has Testing Score: \",  ada_optimal.score(X_test,  y_test))\n",
    "\n",
    "y_train_predict = ada_optimal.predict(X_train)\n",
    "y_test_predict = ada_optimal.predict(X_test)\n",
    "\n",
    "baseline_accuracies[str(ada_optimal.__class__).split('.')[-1].strip(\"'>\")]=accuracy_score(y_test,y_test_predict)\n",
    "models.append(ada_optimal)\n",
    "confusionMatrixPerClass(metrics.confusion_matrix(y_test, y_test_predict))"
   ]
  },
  {
   "cell_type": "markdown",
   "metadata": {},
   "source": [
    "### SVM"
   ]
  },
  {
   "cell_type": "code",
   "execution_count": 17,
   "metadata": {},
   "outputs": [
    {
     "name": "stdout",
     "output_type": "stream",
     "text": [
      "SVM Training Score:  0.704379562044\n",
      "SVM Testing Score:  0.667896678967\n"
     ]
    },
    {
     "data": {
      "text/html": [
       "<div>\n",
       "<style>\n",
       "    .dataframe thead tr:only-child th {\n",
       "        text-align: right;\n",
       "    }\n",
       "\n",
       "    .dataframe thead th {\n",
       "        text-align: left;\n",
       "    }\n",
       "\n",
       "    .dataframe tbody tr th {\n",
       "        vertical-align: top;\n",
       "    }\n",
       "</style>\n",
       "<table border=\"1\" class=\"dataframe\">\n",
       "  <thead>\n",
       "    <tr style=\"text-align: right;\">\n",
       "      <th></th>\n",
       "      <th>AD Score</th>\n",
       "      <th>CN Score</th>\n",
       "      <th>LMCI Score</th>\n",
       "    </tr>\n",
       "    <tr>\n",
       "      <th>Accuracies</th>\n",
       "      <th></th>\n",
       "      <th></th>\n",
       "      <th></th>\n",
       "    </tr>\n",
       "  </thead>\n",
       "  <tbody>\n",
       "    <tr>\n",
       "      <th>True Negative</th>\n",
       "      <td>0.918182</td>\n",
       "      <td>0.877660</td>\n",
       "      <td>0.634328</td>\n",
       "    </tr>\n",
       "    <tr>\n",
       "      <th>False Positive</th>\n",
       "      <td>0.081818</td>\n",
       "      <td>0.122340</td>\n",
       "      <td>0.365672</td>\n",
       "    </tr>\n",
       "    <tr>\n",
       "      <th>False Negative</th>\n",
       "      <td>0.411765</td>\n",
       "      <td>0.349398</td>\n",
       "      <td>0.291971</td>\n",
       "    </tr>\n",
       "    <tr>\n",
       "      <th>True Positive</th>\n",
       "      <td>0.588235</td>\n",
       "      <td>0.650602</td>\n",
       "      <td>0.708029</td>\n",
       "    </tr>\n",
       "  </tbody>\n",
       "</table>\n",
       "</div>"
      ],
      "text/plain": [
       "                AD Score  CN Score  LMCI Score\n",
       "Accuracies                                    \n",
       "True Negative   0.918182  0.877660    0.634328\n",
       "False Positive  0.081818  0.122340    0.365672\n",
       "False Negative  0.411765  0.349398    0.291971\n",
       "True Positive   0.588235  0.650602    0.708029"
      ]
     },
     "execution_count": 17,
     "metadata": {},
     "output_type": "execute_result"
    }
   ],
   "source": [
    "svm_model = svm.SVC(kernel='linear')\n",
    "svm_model.fit(X_train, y_train)\n",
    "\n",
    "print(\"SVM Training Score: \", svm_model.score(X_train, y_train))\n",
    "print(\"SVM Testing Score: \",  svm_model.score(X_test,  y_test))\n",
    "\n",
    "y_train_predict = svm_model.predict(X_train)\n",
    "y_test_predict = svm_model.predict(X_test)\n",
    "\n",
    "baseline_accuracies[str(svm_model.__class__).split('.')[-1].strip(\"'>\")]=accuracy_score(y_test,y_test_predict)\n",
    "#NOTE: Computing ROC for SVM is too computationally expensive so we add it later\n",
    "#models.append(svm_model)\n",
    "\n",
    "confusionMatrixPerClass(metrics.confusion_matrix(y_test, y_test_predict))\n"
   ]
  },
  {
   "cell_type": "code",
   "execution_count": 18,
   "metadata": {},
   "outputs": [
    {
     "data": {
      "image/png": "[encoded data removed]",
      "text/plain": [
       "<matplotlib.figure.Figure at 0x10ef10940>"
      ]
     },
     "metadata": {},
     "output_type": "display_data"
    }
   ],
   "source": [
    "#Plotting ROC Curves for Multi-Classification problem\n",
    "\n",
    "#reload y and nromalize X\n",
    "y = data_new['DX_bl']\n",
    "\n",
    "# Binarize the output\n",
    "y = label_binarize(y, classes=['CN','LMCI','AD'])\n",
    "n_classes = y.shape[1]\n",
    "\n",
    "random_state = 0 \n",
    "\n",
    "# shuffle and split training and test sets\n",
    "X_train, X_test, y_train, y_test = train_test_split(norm_X, y, test_size=0.33\n",
    "                                                    ,random_state=0)\n",
    "\n",
    "fig, axes = plt.subplots(4, 2, figsize=(12, 12))\n",
    "ax = axes.ravel()\n",
    "\n",
    "for index,model in enumerate(models):\n",
    "\n",
    "    # Learn to predict each class against the other\n",
    "    classifier = OneVsRestClassifier(model)\n",
    "\n",
    "    y_score = classifier.fit(X_train, y_train).predict_proba(X_test)\n",
    "\n",
    "    # Compute ROC curve and ROC area for each class\n",
    "    fpr = dict()\n",
    "    tpr = dict()\n",
    "    roc_auc = dict()\n",
    "    for i in range(n_classes):\n",
    "        fpr[i], tpr[i], _ = roc_curve(y_test[:, i], y_score[:, i])\n",
    "        roc_auc[i] = auc(fpr[i], tpr[i])\n",
    "\n",
    "    # Compute micro-average ROC curve and ROC area\n",
    "    fpr[\"micro\"], tpr[\"micro\"], _ = roc_curve(y_test.ravel(), y_score.ravel())\n",
    "    roc_auc[\"micro\"] = auc(fpr[\"micro\"], tpr[\"micro\"])\n",
    "\n",
    "    # Plot ROC curve\n",
    "\n",
    "    ax[index].plot(fpr[\"micro\"], tpr[\"micro\"],\n",
    "             label='micro-average ROC curve (area = {0:0.2f})'\n",
    "                   ''.format(roc_auc[\"micro\"]))\n",
    "    \n",
    "    for i,label in zip(range(n_classes),['CN','LMCI','AD']):\n",
    "        ax[index].plot(fpr[i], tpr[i], label='ROC curve of class {0} ({1}) (area = {2:0.2f})'\n",
    "                                       ''.format(i,label, roc_auc[i]));\n",
    "\n",
    "    ax[index].plot([0, 1], [0, 1], 'k--');\n",
    "    ax[index].set_xlim([0.0, 1.0])\n",
    "    ax[index].set_ylim([0.0, 1.05])\n",
    "    ax[index].set_xlabel('False Positive Rate')\n",
    "    ax[index].set_ylabel('True Positive Rate')\n",
    "    ax[index].set_title('ROC curves for multi-class. with: {0}'.format(str(model.__class__).split('.')[-1].strip(\"'>\")))\n",
    "    ax[index].legend(loc=\"lower right\");\n",
    "    \n",
    "plt.tight_layout()"
   ]
  },
  {
   "cell_type": "code",
   "execution_count": 19,
   "metadata": {},
   "outputs": [
    {
     "name": "stdout",
     "output_type": "stream",
     "text": [
      "LogisticRegressionCV : difference in accuracy \n",
      "with chosen base predictors minus FULL set of predictors\n",
      "0.0110701107011\n",
      "LinearDiscriminantAnalysis : difference in accuracy \n",
      "with chosen base predictors minus FULL set of predictors\n",
      "-0.0147601476015\n",
      "QuadraticDiscriminantAnalysis : difference in accuracy \n",
      "with chosen base predictors minus FULL set of predictors\n",
      "0.0184501845018\n",
      "KNeighborsClassifier : difference in accuracy \n",
      "with chosen base predictors minus FULL set of predictors\n",
      "-0.0221402214022\n",
      "DecisionTreeClassifier : difference in accuracy \n",
      "with chosen base predictors minus FULL set of predictors\n",
      "0.00369003690037\n",
      "RandomForestClassifier : difference in accuracy \n",
      "with chosen base predictors minus FULL set of predictors\n",
      "-0.0147601476015\n",
      "AdaBoostClassifier : difference in accuracy \n",
      "with chosen base predictors minus FULL set of predictors\n",
      "-0.0627306273063\n",
      "SVC : difference in accuracy \n",
      "with chosen base predictors minus FULL set of predictors\n",
      "0.0221402214022\n"
     ]
    }
   ],
   "source": [
    "models.append(svm_model)\n",
    "\n",
    "#Now, build a model which has ALL predictors\n",
    "\n",
    "y = data_new['DX_bl']\n",
    "X = data_new.copy(deep=True).drop('DX_bl',axis=1)\n",
    "\n",
    "#Case 2: impute missing values by mean\n",
    "X = X.fillna(X.mean())\n",
    "\n",
    "#do not standardize now?\n",
    "#norm_X = (X-X.mean())/X.std()\n",
    "\n",
    "X_train, X_test, y_train, y_test = train_test_split(norm_X, y, test_size=0.33)\n",
    "\n",
    "#Determine baseline accuracy of various models\n",
    "accuracies_all_f = {}\n",
    "for model in models:\n",
    "    #log_reg = LogisticRegressionCV(penalty='l2',fit_intercept=True)\n",
    "    model.fit(X_train,y_train)\n",
    "\n",
    "    y_train_predict = model.predict(X_train)\n",
    "    y_test_predict = model.predict(X_test)\n",
    "\n",
    "    #print(\"Accuracy score of the {} on the training set: {:.5f}\" .format(str(model.__class__).split('.')[-1].strip(\"'>\"),accuracy_score(y_train,y_train_predict)))\n",
    "    #print(\"Accuracy score of the {} on the test set: {:.5f}\" .format(str(model.__class__).split('.')[-1].strip(\"'>\"),accuracy_score(y_test,y_test_predict)))\n",
    "    #print(\"Confusion matrix:\")\n",
    "    #print(metrics.confusion_matrix(y_test, y_test_predict),\"\\n\")\n",
    "    accuracies_all_f[str(model.__class__).split('.')[-1].strip(\"'>\")]=accuracy_score(y_test,y_test_predict)\n",
    "    \n",
    "for key in baseline_accuracies:\n",
    "    print(key,\": difference in accuracy \\nwith chosen base predictors minus FULL set of predictors\")\n",
    "    print(baseline_accuracies[key]-accuracies_all_f[key])"
   ]
  },
  {
   "cell_type": "markdown",
   "metadata": {},
   "source": [
    "### Backward Selection "
   ]
  },
  {
   "cell_type": "code",
   "execution_count": 20,
   "metadata": {},
   "outputs": [
    {
     "data": {
      "text/plain": [
       "\"ovr_logistic = LogisticRegressionCV(fit_intercept=True, Cs=lambdas, penalty='l2', multi_class = 'ovr')\\novr_result = ovr_logistic.fit(X_train, y_train)\\n\\nall_predictors = list(X_train.columns)\\n\\npredictors = [(all_predictors, ovr_result.score(X_test, y_test))]\\n\\nfor k in range(len(all_predictors), 1, -1):\\n    best_k_predictors = predictors[-1][0]\\n    scores = []\\n    for predictor in best_k_predictors:\\n        k_minus_1 = list(set(best_k_predictors) - set([predictor]))\\n        X_train = X_train[k_minus_1].values\\n        X_test = X_test[k_minus_1].values\\n        \\n        ovr_logistic = LogisticRegressionCV(fit_intercept=True, Cs=lambdas, penalty='l2', multi_class = 'ovr')\\n        ovr_result = ovr_logistic.fit(X_train, y_train)\\n\\n        scores.append(ovr_result.score(X_test, y_test))\\n    \\n    best_k_minus_1 = list(set(best_k_predictors) - set([best_k_predictors[np.argmax(scores)]]))\\n    predictors.append((best_k_minus_1, np.max(scores)))\\nbest_predictor_set_b = sorted(predictors, key=lambda t: t[1])[-1]\\n\\nX_train = data_train[best_predictor_set_b[0]].values\\nX_test = data_test[best_predictor_set_b[0]].values  \\novr_logistic.fit(X_train, y_train)\\n\\nprint('best predictor set: {}\\nscore: {}\\ntest R^2: {}'.format(best_predictor_set_b[0], best_predictor_set_b[1], ovr_logistic.score(X_test, y_test)))\\n\""
      ]
     },
     "execution_count": 20,
     "metadata": {},
     "output_type": "execute_result"
    }
   ],
   "source": [
    "#### Backward selection \n",
    "\n",
    "\"\"\"ovr_logistic = LogisticRegressionCV(fit_intercept=True, Cs=lambdas, penalty='l2', multi_class = 'ovr')\n",
    "ovr_result = ovr_logistic.fit(X_train, y_train)\n",
    "\n",
    "all_predictors = list(X_train.columns)\n",
    "\n",
    "predictors = [(all_predictors, ovr_result.score(X_test, y_test))]\n",
    "\n",
    "for k in range(len(all_predictors), 1, -1):\n",
    "    best_k_predictors = predictors[-1][0]\n",
    "    scores = []\n",
    "    for predictor in best_k_predictors:\n",
    "        k_minus_1 = list(set(best_k_predictors) - set([predictor]))\n",
    "        X_train = X_train[k_minus_1].values\n",
    "        X_test = X_test[k_minus_1].values\n",
    "        \n",
    "        ovr_logistic = LogisticRegressionCV(fit_intercept=True, Cs=lambdas, penalty='l2', multi_class = 'ovr')\n",
    "        ovr_result = ovr_logistic.fit(X_train, y_train)\n",
    "\n",
    "        scores.append(ovr_result.score(X_test, y_test))\n",
    "    \n",
    "    best_k_minus_1 = list(set(best_k_predictors) - set([best_k_predictors[np.argmax(scores)]]))\n",
    "    predictors.append((best_k_minus_1, np.max(scores)))\n",
    "best_predictor_set_b = sorted(predictors, key=lambda t: t[1])[-1]\n",
    "\n",
    "X_train = data_train[best_predictor_set_b[0]].values\n",
    "X_test = data_test[best_predictor_set_b[0]].values  \n",
    "ovr_logistic.fit(X_train, y_train)\n",
    "\n",
    "print('best predictor set: {}\\nscore: {}\\ntest R^2: {}'.format(best_predictor_set_b[0], best_predictor_set_b[1], ovr_logistic.score(X_test, y_test)))\n",
    "\"\"\" \n"
   ]
  },
  {
   "cell_type": "markdown",
   "metadata": {},
   "source": [
    "<br>We see that including all predictors compared to just previously selected baseline predictors leads to approximately comparable accuracy across all out-of-the-box models.</br>\n",
    "<br><b>Let's regularize the three best-performing models to get the baseline models and let's use only the limited set of predictors. </b>"
   ]
  },
  {
   "cell_type": "code",
   "execution_count": 21,
   "metadata": {},
   "outputs": [
    {
     "name": "stdout",
     "output_type": "stream",
     "text": [
      "Test accuracy achieved with ADA 0.549815498155\n",
      "Test accuracy achieved with RF 0.568265682657\n",
      "Test accuracy achieved with SVM 0.664206642066\n"
     ]
    }
   ],
   "source": [
    "####BASELINE MODELS - SEE BELOW FOR CODE FOR ADA, RF and SVM\n",
    "\n",
    "cols = [\"AGE\",\"PTEDUCAT\",\"PTAU_UPENNBIOMK9_04_19_17\",\"ABETA_UPENNBIOMK9_04_19_17\", \\\n",
    "        \"TAU_UPENNBIOMK9_04_19_17\",\"APOE4\",\"ADAS11\"]\n",
    "\n",
    "y = data_new['DX_bl']\n",
    "X = data_new[cols]\n",
    "\n",
    "#Case 2: impute missing values by mean\n",
    "X = X.fillna(X.mean())\n",
    "\n",
    "#Standardize\n",
    "standard_X = (X-X.mean())/X.std()\n",
    "\n",
    "X_train, X_test, y_train, y_test = train_test_split(standard_X, y, test_size=0.33)\n",
    "\n",
    "###############\n",
    "#NOTE: all models can be adjusted to include polynomial features by changing the features degree\n",
    "###############\n",
    "\n",
    "#ADA Boost with Decision tree as a classifier\n",
    "\n",
    "ADA_pipe = Pipeline([ ('poly', PolynomialFeatures(degree = 1, interaction_only=False)), \n",
    "                           ('ADA', AdaBoostClassifier(base_estimator=DecisionTreeClassifier(criterion = 'gini'))\n",
    "                           )])\n",
    "ADA_param_grid = [{'ADA__n_estimators': [2, 3, 5, 10,50,100]},\n",
    "                 {'ADA__base_estimator__max_depth':[2,3,4,5,None]}]\n",
    "\n",
    "\n",
    "ADA_grid = GridSearchCV(ADA_pipe, param_grid=ADA_param_grid,cv = 5)\n",
    "\n",
    "ADA_grid.fit(X_train, y_train)\n",
    "\n",
    "print(\"Test accuracy achieved with ADA\", ADA_grid.score(X_test,y_test))\n",
    "\n",
    "#RF with optimized meta attributes max_depth and number of trees\n",
    "RF_pipe = Pipeline([ ('poly', PolynomialFeatures(degree = 1, interaction_only=False)), \n",
    "                           ('RF', RandomForestClassifier())\n",
    "                           ])\n",
    "RF_param_grid = [{'RF__n_estimators': [2, 3, 5, 10,50,100,150]},\n",
    "                 {'RF__max_depth':[2,3,4,5,None]}]\n",
    "\n",
    "RF_grid = GridSearchCV(RF_pipe, param_grid=RF_param_grid,cv = 5)\n",
    "\n",
    "RF_grid.fit(X_train, y_train)\n",
    "\n",
    "print(\"Test accuracy achieved with RF\", RF_grid.score(X_test,y_test))\n",
    "\n",
    "#SVM with optimized meta attributes regularization param C and kernel \n",
    "\n",
    "SVM_pipe = Pipeline([ ('poly', PolynomialFeatures(degree = 1, interaction_only=False)), \n",
    "                           ('SVM', svm.SVC())\n",
    "                           ])\n",
    "\n",
    "SVM_param_grid = [{'SVM__C': np.logspace(-4,3)},\n",
    "                  {'SVM__kernel':['linear','poly','rbf']},{'SVM__degree':[1,2,3,4]}]\n",
    "\n",
    "SVM_grid = GridSearchCV(SVM_pipe, param_grid=SVM_param_grid,cv = 5)\n",
    "\n",
    "SVM_grid.fit(X_train, y_train)\n",
    "\n",
    "print(\"Test accuracy achieved with SVM\", SVM_grid.score(X_test,y_test))"
   ]
  },
  {
   "cell_type": "markdown",
   "metadata": {},
   "source": [
    "# Selecting Features"
   ]
  },
  {
   "cell_type": "code",
   "execution_count": 22,
   "metadata": {},
   "outputs": [
    {
     "data": {
      "text/plain": [
       "['CSF',\n",
       " 'Cognitive tests',\n",
       " 'Cognitive tests (ADAS)',\n",
       " 'Demographics / Risk factors',\n",
       " 'Diagnosis',\n",
       " 'ID',\n",
       " 'MRI (Cross-sectional)',\n",
       " 'MRI (Longitudinal)',\n",
       " 'MRI measures',\n",
       " 'PET (AV45 AMYLOID)',\n",
       " 'PET (FDG)',\n",
       " 'PET measures',\n",
       " 'Time']"
      ]
     },
     "execution_count": 22,
     "metadata": {},
     "output_type": "execute_result"
    }
   ],
   "source": [
    "#use meta_data file to choose feature categories to add\n",
    "\n",
    "data_meta = pd.read_csv('../data/metadata_new.csv')\n",
    "\n",
    "#list of categories\n",
    "categories = list(np.unique(data_meta.cat))\n",
    "categories"
   ]
  },
  {
   "cell_type": "code",
   "execution_count": 23,
   "metadata": {
    "collapsed": true
   },
   "outputs": [],
   "source": [
    "features = list(data_meta.loc[data_meta.cat.isin(['Demographics / Risk factors','CFS','Cognitive tests',\"PET (FDG)\",\"PET (AV45 AMYLOID)\",'MRI measures']),'column_name'])\n",
    "\n",
    "data_meta2 = pd.read_csv('../data/data_summary_ADNI1_all.csv')\n",
    "\n",
    "reduced_set_features = list(data_meta2.iloc[:,0])\n",
    "\n",
    "#because the new metadata file does not contain the categories, I do a set intersection\n",
    "u = set(reduced_set_features).intersection(set(features))"
   ]
  },
  {
   "cell_type": "code",
   "execution_count": 24,
   "metadata": {},
   "outputs": [
    {
     "name": "stdout",
     "output_type": "stream",
     "text": [
      "Test accuracy achieved with SVM 0.719557195572\n"
     ]
    }
   ],
   "source": [
    "#Now perform sort-of a backwards feature selection\n",
    "\n",
    "y = data_new['DX_bl']\n",
    "X = data_new[list(u)]\n",
    "\n",
    "#Case 2: impute missing values by mean\n",
    "X = X.fillna(X.mean())\n",
    "\n",
    "#Standardize\n",
    "#standard_X = (X-X.mean())/X.std()\n",
    "\n",
    "X_train, X_test, y_train, y_test = train_test_split(standard_X, y, test_size=0.33)\n",
    "\n",
    "SVM_pipe = Pipeline([ ('poly', PolynomialFeatures(degree = 1, interaction_only=False)), \n",
    "                           ('SVM', svm.SVC())\n",
    "                           ])\n",
    "\n",
    "SVM_param_grid = [{'SVM__C': np.logspace(-4,3)},\n",
    "                  {'SVM__kernel':['linear','poly','rbf']},{'SVM__degree':[1,2,3,4]}]\n",
    "\n",
    "SVM_grid = GridSearchCV(SVM_pipe, param_grid=SVM_param_grid,cv = 5)\n",
    "\n",
    "SVM_grid.fit(X_train, y_train)\n",
    "\n",
    "print(\"Test accuracy achieved with SVM\", SVM_grid.score(X_test,y_test))"
   ]
  },
  {
   "cell_type": "code",
   "execution_count": null,
   "metadata": {
    "collapsed": true
   },
   "outputs": [],
   "source": []
  },
  {
   "cell_type": "code",
   "execution_count": null,
   "metadata": {
    "collapsed": true
   },
   "outputs": [],
   "source": []
  },
  {
   "cell_type": "code",
   "execution_count": null,
   "metadata": {
    "collapsed": true
   },
   "outputs": [],
   "source": []
  }
 ],
 "metadata": {
  "kernelspec": {
   "display_name": "Python 3",
   "language": "python",
   "name": "python3"
  },
  "language_info": {
   "codemirror_mode": {
    "name": "ipython",
    "version": 3
   },
   "file_extension": ".py",
   "mimetype": "text/x-python",
   "name": "python",
   "nbconvert_exporter": "python",
   "pygments_lexer": "ipython3",
   "version": "3.6.1"
  }
 },
 "nbformat": 4,
 "nbformat_minor": 2
}
